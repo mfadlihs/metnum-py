{
  "nbformat": 4,
  "nbformat_minor": 0,
  "metadata": {
    "colab": {
      "provenance": [],
      "collapsed_sections": [],
      "authorship_tag": "ABX9TyM2r6o5gSXECU2xMm5H6H79",
      "include_colab_link": true
    },
    "kernelspec": {
      "name": "python3",
      "display_name": "Python 3"
    },
    "language_info": {
      "name": "python"
    }
  },
  "cells": [
    {
      "cell_type": "markdown",
      "metadata": {
        "id": "view-in-github",
        "colab_type": "text"
      },
      "source": [
        "<a href=\"https://colab.research.google.com/github/mfadlihs/metnum-py/blob/main/tugas8.ipynb\" target=\"_parent\"><img src=\"https://colab.research.google.com/assets/colab-badge.svg\" alt=\"Open In Colab\"/></a>"
      ]
    },
    {
      "cell_type": "markdown",
      "source": [
        "# TUGAS 8 METNUM\n",
        "\n",
        "<h3>Muhammad Fadli Hasan<br/>215150200111063</h3>"
      ],
      "metadata": {
        "id": "a2Tbwq3c-372"
      }
    },
    {
      "cell_type": "code",
      "execution_count": 1,
      "metadata": {
        "id": "b4tf6pmF-lLw"
      },
      "outputs": [],
      "source": [
        "import numpy as np"
      ]
    },
    {
      "cell_type": "markdown",
      "source": [
        "### Interpolasi Polinomial Newton"
      ],
      "metadata": {
        "id": "0-VK8oQ__C5t"
      }
    },
    {
      "cell_type": "code",
      "source": [
        "def newton(n, x, fx, value):\n",
        "    a = np.copy(x)\n",
        "    b = np.copy(fx)\n",
        "    for i in range(1, n):\n",
        "        b[i:n] = (b[i:n] - b[i - 1]) / (a[i:n] - a[i - 1])\n",
        "    d = n - 1\n",
        "    sum = b[d]\n",
        "    for j in range(1, n):\n",
        "        sum = b[d - j] + (value - x[d - j]) * sum\n",
        "    return sum"
      ],
      "metadata": {
        "id": "rYCkwfsI_Fes"
      },
      "execution_count": 10,
      "outputs": []
    },
    {
      "cell_type": "markdown",
      "source": [
        "### Interpolasi Lagrange"
      ],
      "metadata": {
        "id": "WiwYCrdb_I8i"
      }
    },
    {
      "cell_type": "code",
      "source": [
        "def lagrange(n, x, fx, value):\n",
        "  sum = 0\n",
        "  for i in range(n):\n",
        "      p = 1\n",
        "      for j in range(n):\n",
        "          if i != j:\n",
        "              p = p * (value - x[j]) / (x[i] - x[j])\n",
        "      sum = sum + p * fx[i] \n",
        "  return sum"
      ],
      "metadata": {
        "id": "yAMUH6Qb_LJR"
      },
      "execution_count": 9,
      "outputs": []
    },
    {
      "cell_type": "markdown",
      "source": [
        "### Regresi Linear"
      ],
      "metadata": {
        "id": "yYeqhrV-_O5V"
      }
    },
    {
      "cell_type": "code",
      "source": [
        "def linreg(n, x, fx, value):\n",
        "  sum = 0\n",
        "  xmean = np.mean(x)\n",
        "  ymean = np.mean(fx)\n",
        "  temp1 = 0\n",
        "  temp2 = 0\n",
        "  for i in range(n):\n",
        "    temp1 = temp1 + ((x[i] - xmean) * (fx[i] - ymean)) \n",
        "    temp2 = temp2 + (x[i] - xmean)**2\n",
        "  beta = temp1 / temp2\n",
        "  alpha = ymean - beta * xmean\n",
        "  sum = alpha + beta * value\n",
        "  return sum"
      ],
      "metadata": {
        "id": "pcxLP3XZ_TXL"
      },
      "execution_count": 8,
      "outputs": []
    },
    {
      "cell_type": "markdown",
      "source": [
        "### Jawaban"
      ],
      "metadata": {
        "id": "aj0o2_Sc_pfS"
      }
    },
    {
      "cell_type": "code",
      "source": [
        "x = [1, 2, 3, 4, 5, 6, 7, 8, 9, 10]\n",
        "fx = [7.03948302, 11.2347113, 15.3418565, 19.1049999, 23.2723955, 27.4985445, 31.6573844, 35.81462, 39.5455326, 43.4423335]\n",
        "value = 4.5"
      ],
      "metadata": {
        "id": "u7Aj64Kb_sMI"
      },
      "execution_count": 7,
      "outputs": []
    },
    {
      "cell_type": "code",
      "source": [
        "print(f\"1. Interpolasi Polinomial Newton pada {value} adalah {newton(len(x), x, fx, value)}\")\n"
      ],
      "metadata": {
        "colab": {
          "base_uri": "https://localhost:8080/"
        },
        "id": "jDy0_210_-70",
        "outputId": "40f9a380-9415-4380-a00a-46a6a6f78a5e"
      },
      "execution_count": 19,
      "outputs": [
        {
          "output_type": "stream",
          "name": "stdout",
          "text": [
            "1. Interpolasi Polinomial Newton pada 4.5 adalah 21.152020375343323\n"
          ]
        }
      ]
    },
    {
      "cell_type": "code",
      "source": [
        "print(f\"2. Interpolasi Langrange pada {value} adalah {lagrange(len(x), x, fx, value)}\")"
      ],
      "metadata": {
        "colab": {
          "base_uri": "https://localhost:8080/"
        },
        "id": "CiP7ENEbAzBe",
        "outputId": "652aeb81-6e0d-44f6-d884-c42412d3ff27"
      },
      "execution_count": 23,
      "outputs": [
        {
          "output_type": "stream",
          "name": "stdout",
          "text": [
            "2. Interpolasi Langrange pada 4.5 adalah 21.15202037534332\n"
          ]
        }
      ]
    },
    {
      "cell_type": "code",
      "source": [
        "print(f\"3. Regresi Linear pada {value} adalah {linreg(len(x), x, fx, value)}\")"
      ],
      "metadata": {
        "colab": {
          "base_uri": "https://localhost:8080/"
        },
        "id": "tRU9Xdx1AzdF",
        "outputId": "2e251055-b903-48e4-cf81-192259b102bc"
      },
      "execution_count": 22,
      "outputs": [
        {
          "output_type": "stream",
          "name": "stdout",
          "text": [
            "3. Regresi Linear pada 4.5 adalah 21.334285980060603\n"
          ]
        }
      ]
    },
    {
      "cell_type": "markdown",
      "source": [],
      "metadata": {
        "id": "KJstnCao_rdk"
      }
    }
  ]
}