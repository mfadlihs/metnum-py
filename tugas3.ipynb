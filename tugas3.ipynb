{
  "nbformat": 4,
  "nbformat_minor": 0,
  "metadata": {
    "colab": {
      "provenance": [],
      "authorship_tag": "ABX9TyOaa4z5a8WKKskFZpuMiPGW",
      "include_colab_link": true
    },
    "kernelspec": {
      "name": "python3",
      "display_name": "Python 3"
    },
    "language_info": {
      "name": "python"
    }
  },
  "cells": [
    {
      "cell_type": "markdown",
      "metadata": {
        "id": "view-in-github",
        "colab_type": "text"
      },
      "source": [
        "<a href=\"https://colab.research.google.com/github/mfadlihs/metnum-py/blob/main/tugas3.ipynb\" target=\"_parent\"><img src=\"https://colab.research.google.com/assets/colab-badge.svg\" alt=\"Open In Colab\"/></a>"
      ]
    },
    {
      "cell_type": "markdown",
      "source": [
        "# import lib\n"
      ],
      "metadata": {
        "id": "jXKq16ZEvMtv"
      }
    },
    {
      "cell_type": "code",
      "source": [
        "import numpy as np\n",
        "import matplotlib.pyplot as plt\n",
        "import math"
      ],
      "metadata": {
        "id": "Owxv6IuyvPRd"
      },
      "execution_count": 14,
      "outputs": []
    },
    {
      "cell_type": "markdown",
      "source": [
        "# Algoritma"
      ],
      "metadata": {
        "id": "G6Y-FyBPvEyA"
      }
    },
    {
      "cell_type": "markdown",
      "source": [
        "## Bisection"
      ],
      "metadata": {
        "id": "Z27K5MQjvIS8"
      }
    },
    {
      "cell_type": "markdown",
      "source": [
        "### bisection regular"
      ],
      "metadata": {
        "id": "OhWHlFRcvf-P"
      }
    },
    {
      "cell_type": "code",
      "source": [
        "def bisection(f, a, b, e):\n",
        "    if not (f(a) * f(b) < 0):\n",
        "        raise Exception(\n",
        "            \"Nilai a dan b tidak memenuhi syarat, akar yang dicari tidak berada di antara a dan b!\")\n",
        "\n",
        "    print(\"i\", \"\\t\", \"a\", \"\\t\", \"b\", \"\\t\", \"f(a)\", \"\\t\",\n",
        "          \"f(b)\", \"\\t\", \"c\", \"\\t\", \"f(c)\")\n",
        "    i = 0\n",
        "    c = (a + b)/2\n",
        "    while (abs(f(c)) > e):\n",
        "        i += 1\n",
        "        print(i, \"\\t\", round(a, 3), \"\\t\", round(b, 3), \"\\t\", round(f(a), 3), \"\\t\",\n",
        "              round(f(b), 3), \"\\t\", round(c, 3), \"\\t\", round(f(c), 6))\n",
        "        if (f(a) * f(c) < 0):\n",
        "            b = c\n",
        "        elif (f(a) * f(c) > 0):\n",
        "            a = c\n",
        "        c = (a + b)/2\n",
        "    print(f\"nilai akar persamaan menggunakan bisection adalah {c}\")"
      ],
      "metadata": {
        "id": "gNv0zYLPviOB"
      },
      "execution_count": 2,
      "outputs": []
    },
    {
      "cell_type": "markdown",
      "source": [
        "### bisection recursive"
      ],
      "metadata": {
        "id": "28UIWZLKvpYN"
      }
    },
    {
      "cell_type": "code",
      "source": [
        "def bisection_recursive(f, a, b, e, i):\n",
        "    if not (f(a) * f(b) < 0):\n",
        "        raise Exception(\n",
        "            \"Nilai a dan b tidak memenuhi syarat, akar yang dicari tidak berada di antara a dan b!\")\n",
        "\n",
        "    i += 1\n",
        "    c = (a + b)/2\n",
        "    print(i, \"\\t\", round(a, 3), \"\\t\", round(b, 3), \"\\t\", round(f(a), 3), \"\\t\",\n",
        "          round(f(b), 3), \"\\t\", round(c, 3), \"\\t\", round(f(c), 6))\n",
        "\n",
        "    if abs(f(c)) < e:\n",
        "        return c\n",
        "    else:\n",
        "        if (f(a) * f(c) < 0):\n",
        "            b = c\n",
        "        else:\n",
        "            a = c\n",
        "        return bisection_recursive(f, a, b, e, i)"
      ],
      "metadata": {
        "id": "U2yGZUmqvtLd"
      },
      "execution_count": 3,
      "outputs": []
    },
    {
      "cell_type": "markdown",
      "source": [
        "## False Position\n"
      ],
      "metadata": {
        "id": "BvVfqU3Ovy9M"
      }
    },
    {
      "cell_type": "markdown",
      "source": [
        "### Regular"
      ],
      "metadata": {
        "id": "b9vSYCeZv03l"
      }
    },
    {
      "cell_type": "code",
      "source": [
        "def false_pos(f, a, b, e):\n",
        "    if not (f(a) * f(b) < 0):\n",
        "        raise Exception(\n",
        "            \"Nilai a dan b tidak memenuhi syarat, akar yang dicari tidak berada di antara a dan b!\")\n",
        "\n",
        "    print(\"i\", \"\\t\", \"a\", \"\\t\", \"b\", \"\\t\", \"f(a)\", \"\\t\",\n",
        "          \"f(b)\", \"\\t\", \"c\", \"\\t\", \"f(c)\")\n",
        "    i = 0\n",
        "    c = b - ((f(b)*(b-a))/(f(b)-f(a)))\n",
        "    #c = a - ((fx(a)*(a-b))/(fx(a)-fx(b)))\n",
        "    while (abs(f(c)) > e):\n",
        "        i += 1\n",
        "        print(i, \"\\t\", round(a, 3), \"\\t\", round(b, 3), \"\\t\", round(f(a), 3), \"\\t\",\n",
        "              round(f(b), 3), \"\\t\", round(c, 3), \"\\t\", round(f(c), 6))\n",
        "        if (f(a) * f(c) < 0):\n",
        "            b = c\n",
        "        elif (f(a) * f(c) > 0):\n",
        "            a = c\n",
        "        c = b - ((f(b)*(b-a))/(f(b)-f(a)))\n",
        "        #c = a - ((fx(a)*(a-b))/(fx(a)-fx(b)))\n",
        "    print(f\"nilai akar persamaan menggunakan False-Position adalah {c}\")"
      ],
      "metadata": {
        "id": "O_AA6Orlv4sj"
      },
      "execution_count": 4,
      "outputs": []
    },
    {
      "cell_type": "markdown",
      "source": [
        "### Recursive"
      ],
      "metadata": {
        "id": "f2ArGvWsv2Mc"
      }
    },
    {
      "cell_type": "code",
      "source": [
        "def false_pos_recursive(f, a, b, e, i):\n",
        "    if not (f(a) * f(b) < 0):\n",
        "        raise Exception(\n",
        "            \"Nilai a dan b tidak memenuhi syarat, akar yang dicari tidak berada di antara a dan b!\")\n",
        "\n",
        "    i += 1\n",
        "    c = b - ((f(b)*(b-a))/(f(b)-f(a)))\n",
        "    #c = a - ((fx(a)*(a-b))/(fx(a)-fx(b)))\n",
        "    print(i, \"\\t\", round(a, 3), \"\\t\", round(b, 3), \"\\t\", round(f(a), 3), \"\\t\",\n",
        "          round(f(b), 3), \"\\t\", round(c, 3), \"\\t\", round(f(c), 6))\n",
        "\n",
        "    if abs(f(c)) < e:\n",
        "        return c\n",
        "    else:\n",
        "        if (f(a) * f(c) < 0):\n",
        "            b = c\n",
        "        else:\n",
        "            a = c\n",
        "        return false_pos_recursive(f, a, b, e, i)"
      ],
      "metadata": {
        "id": "wrEZcgdKv7Zr"
      },
      "execution_count": 5,
      "outputs": []
    },
    {
      "cell_type": "markdown",
      "source": [
        "## Newton Raphson"
      ],
      "metadata": {
        "id": "a1rhvvyTv_wo"
      }
    },
    {
      "cell_type": "markdown",
      "source": [
        "### Regular"
      ],
      "metadata": {
        "id": "5HhjNSAOwBhj"
      }
    },
    {
      "cell_type": "code",
      "source": [
        "def nr(f, df, x0, e):\n",
        "    print(\"i\", \"\\t\", \"x\", \"\\t\", \"f(x)\")\n",
        "    i = 1\n",
        "    print(i, \"\\t\", round(x0, 3), \"\\t\", round(f(x0), 6))\n",
        "    while (abs(f(x0)) > e):\n",
        "        i += 1\n",
        "        x0 = x0 - f(x0)/df(x0)\n",
        "        print(i, \"\\t\", round(x0, 3), \"\\t\", round(f(x0), 6))\n",
        "    print(f\"nilai akar persamaan menggunakan Newton-Raphson adalah {x0}\")"
      ],
      "metadata": {
        "id": "ZWrcbWjjwFkF"
      },
      "execution_count": 6,
      "outputs": []
    },
    {
      "cell_type": "markdown",
      "source": [
        "### Recursive"
      ],
      "metadata": {
        "id": "1kjN14JcwCmb"
      }
    },
    {
      "cell_type": "code",
      "source": [
        "def nr_recursive(f, df, x0, e, i):\n",
        "    i += 1\n",
        "    print(i, \"\\t\", round(x0, 3), \"\\t\", round(f(x0), 6))\n",
        "    if abs(f(x0)) < e:\n",
        "        return x0\n",
        "    else:\n",
        "        return nr_recursive(f, df, x0 - f(x0)/df(x0), e, i)"
      ],
      "metadata": {
        "id": "OFrfJnkKwHf1"
      },
      "execution_count": 7,
      "outputs": []
    },
    {
      "cell_type": "markdown",
      "source": [
        "## Secant"
      ],
      "metadata": {
        "id": "-zjJGZpuwI7r"
      }
    },
    {
      "cell_type": "markdown",
      "source": [
        "### Regular"
      ],
      "metadata": {
        "id": "CDT0HtbSwKdv"
      }
    },
    {
      "cell_type": "code",
      "source": [
        "def secant(f, x0, x1, e):\n",
        "    print(\"i\", \"\\t\", \"x\", \"\\t\", \"f(x)\")\n",
        "    i = 1\n",
        "    print(i, \"\\t\", round(x1, 3), \"\\t\", round(f(x1), 6))\n",
        "    while (abs(f(x1)) > e):\n",
        "        i += 1\n",
        "        x = x1 - f(x1)*(x1-x0)/(f(x1)-f(x0))\n",
        "        x0 = x1\n",
        "        x1 = x\n",
        "        print(i, \"\\t\", round(x1, 3), \"\\t\", round(f(x1), 6))\n",
        "    print(f\"nilai akar persamaan menggunakan Secant adalah {x1}\")"
      ],
      "metadata": {
        "id": "rwFA0vIwwOBK"
      },
      "execution_count": 40,
      "outputs": []
    },
    {
      "cell_type": "markdown",
      "source": [
        "### Recursive"
      ],
      "metadata": {
        "id": "v80ifsAowLhp"
      }
    },
    {
      "cell_type": "code",
      "source": [
        "def secant_recursive(f, x0, x1, e, i):\n",
        "    i += 1\n",
        "    y = f(x1)\n",
        "    print(i, \"\\t\", round(x1, 3), \"\\t\", round(y, 6))\n",
        "    if abs(y) < e:\n",
        "        return x1\n",
        "    else:\n",
        "        return secant_recursive(f, x1, x1 - f(x1)*(x1-x0)/(f(x1)-f(x0)), e, i)"
      ],
      "metadata": {
        "id": "_LX_v5vRwQnl"
      },
      "execution_count": 10,
      "outputs": []
    },
    {
      "cell_type": "markdown",
      "source": [
        "# Main"
      ],
      "metadata": {
        "id": "Sx3N_F2fwarO"
      }
    },
    {
      "cell_type": "code",
      "source": [
        "f = lambda x: x**3 - 2*(x**2) + 6*x - 4\n",
        "df = lambda x: 3*x**2 - 4*x + 6\n",
        "x0 = -10\n",
        "x1 = 10\n",
        "a = 0\n",
        "b = 10\n",
        "e = 10e-6\n",
        "bisection(f, a, b, e)\n",
        "print(f\"nilai akar persamaan menggunakan Bisection secara rekursi adalah{bisection_recursive(f, a, b, e, 0)}\")\n",
        "false_pos(f, a, b, e)\n",
        "print(f\"nilai akar persamaan menggunakan False-Position secara rekursi adalah{false_pos_recursive(f, a, b, e, 0)}\")\n",
        "nr(f, df, x0, e)\n",
        "print(f\"nilai akar persamaan menggunakan Newton-Raphson secara rekursi adalah {nr_recursive(f, df, x0, e, 0)}\")\n",
        "secant(f, x0, x1, e)\n",
        "print(f\"nilai akar persamaan menggunakan Secant secara rekursi adalah {secant_recursive(f, x0, x1, e, 0)}\")"
      ],
      "metadata": {
        "id": "Eue04y3ewcKm"
      },
      "execution_count": null,
      "outputs": []
    },
    {
      "cell_type": "markdown",
      "source": [],
      "metadata": {
        "id": "BUjTEvc_wyrR"
      }
    },
    {
      "cell_type": "markdown",
      "source": [
        "## My Function"
      ],
      "metadata": {
        "id": "R5sEOBaRw3Nt"
      }
    },
    {
      "cell_type": "code",
      "source": [
        "def plot(min, max, f):\n",
        "  x = np.arange(min, max, 0.5)\n",
        "  plt.plot(x, f(x), '-')\n",
        "  plt.grid(True)\n",
        "  plt.xlabel('X')\n",
        "  plt.ylabel('Fungsi f(x)')\n",
        "  plt.show()"
      ],
      "metadata": {
        "id": "w3RSAvcvxce5"
      },
      "execution_count": 13,
      "outputs": []
    },
    {
      "cell_type": "code",
      "source": [
        "fx = lambda x:  x**2 + 5*x - 6\n",
        "dfx = lambda x: 2*x + 5\n",
        "plot(-8, 3, fx)"
      ],
      "metadata": {
        "id": "P9JuRwcRw61i",
        "outputId": "d67bf40c-3497-424d-ff54-8fde05799388",
        "colab": {
          "base_uri": "https://localhost:8080/",
          "height": 279
        }
      },
      "execution_count": 43,
      "outputs": [
        {
          "output_type": "display_data",
          "data": {
            "text/plain": [
              "<Figure size 432x288 with 1 Axes>"
            ],
            "image/png": "[encoded data removed]"
          },
          "metadata": {
            "needs_background": "light"
          }
        }
      ]
    },
    {
      "cell_type": "code",
      "source": [
        "def modified_nr(f, df, x0, e):\n",
        "    while (abs(f(x0)) > e):\n",
        "        x0 = x0 - f(x0)/df(x0)\n",
        "    return x0"
      ],
      "metadata": {
        "id": "T3lYxxUK1UCb"
      },
      "execution_count": 72,
      "outputs": []
    },
    {
      "cell_type": "code",
      "source": [
        "min = -100\n",
        "x0 = round(modified_nr(fx, dfx, -100, e))\n",
        "while(x0 == round(modified_nr(fx, dfx, min, e), 3)):\n",
        "  x0 = round(modified_nr(fx, dfx, min, e), 3)\n",
        "  min /= 2\n",
        "\n",
        "x1 = round(modified_nr(fx, dfx, min, e), 3)\n",
        "print(f\"x0: {x0}\\tx1: {x1}\")"
      ],
      "metadata": {
        "id": "U7V3XRC-4UUY",
        "outputId": "4fe6b35f-e4de-4e16-a97a-3fd1477542fc",
        "colab": {
          "base_uri": "https://localhost:8080/"
        }
      },
      "execution_count": 98,
      "outputs": [
        {
          "output_type": "stream",
          "name": "stdout",
          "text": [
            "x0: -6.0\tx1: 1.0\n"
          ]
        }
      ]
    }
  ]
}