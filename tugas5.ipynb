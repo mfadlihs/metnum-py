{
  "nbformat": 4,
  "nbformat_minor": 0,
  "metadata": {
    "colab": {
      "provenance": [],
      "collapsed_sections": [],
      "authorship_tag": "ABX9TyOcWaYPf7rHFhgNnHJ/8X/B",
      "include_colab_link": true
    },
    "kernelspec": {
      "name": "python3",
      "display_name": "Python 3"
    },
    "language_info": {
      "name": "python"
    }
  },
  "cells": [
    {
      "cell_type": "markdown",
      "metadata": {
        "id": "view-in-github",
        "colab_type": "text"
      },
      "source": [
        "<a href=\"https://colab.research.google.com/github/mfadlihs/metnum-py/blob/main/tugas5.ipynb\" target=\"_parent\"><img src=\"https://colab.research.google.com/assets/colab-badge.svg\" alt=\"Open In Colab\"/></a>"
      ]
    },
    {
      "cell_type": "markdown",
      "source": [
        "<b>Muhammad Fadli Hasan</b>\n",
        "<br/>\n",
        "<b>215150200111063</b>\n",
        "<h1>Tugas 5 Metnum</h1>"
      ],
      "metadata": {
        "id": "kvq9X0Mie_vg"
      }
    },
    {
      "cell_type": "code",
      "source": [
        "import numpy as np"
      ],
      "metadata": {
        "id": "eY7eOqkSfWUA"
      },
      "execution_count": 3,
      "outputs": []
    },
    {
      "cell_type": "markdown",
      "source": [
        "# Gauss Elimination"
      ],
      "metadata": {
        "id": "dVyoTSQ5fOL6"
      }
    },
    {
      "cell_type": "code",
      "source": [
        "def gaussElimination(mat1):\n",
        "  result = [[0, 0, 0],\n",
        "             [0, 0, 0],\n",
        "             [0, 0, 0]]\n",
        "\n",
        "  for i in range (3):      \n",
        "      for j in range(i + 1, 3):\n",
        "          ratio = mat1[j][i]/mat1[i][i]\n",
        "          for k in range(3 + 1):\n",
        "              mat1[j][k] = mat1[j][k] - ratio * mat1[i][k]\n",
        "\n",
        "  result[3-1] = mat1[3-1][3]/mat1[3-1][3-1]\n",
        "\n",
        "  for i in range(3 - 2, -1, -1):\n",
        "      result[i] = mat1[i][3]\n",
        "      for j in range(i + 1, 3):\n",
        "          result[i] = result[i] - mat1[i][j]*result[j]\n",
        "      \n",
        "  result[i] = result[i]/mat1[i][i]\n",
        "\n",
        "  print(f'X1 = {result[0]}')\n",
        "  print(f'X2 = {result[1]}')\n",
        "  print(f'X3 = {result[2]}')"
      ],
      "metadata": {
        "id": "mBhiXQgqfVob"
      },
      "execution_count": 6,
      "outputs": []
    },
    {
      "cell_type": "code",
      "source": [
        "mat1 = np.array([\n",
        "    [1, 1, 1, 6],\n",
        "    [1, 2, -1, 2],\n",
        "    [2, 1, 2, 10]\n",
        "])\n",
        "\n",
        "gaussElimination(mat1)"
      ],
      "metadata": {
        "colab": {
          "base_uri": "https://localhost:8080/"
        },
        "id": "e48E6cOiiqRI",
        "outputId": "6ffbb9d0-df0d-41d2-ed70-1bdb69498637"
      },
      "execution_count": 9,
      "outputs": [
        {
          "output_type": "stream",
          "name": "stdout",
          "text": [
            "X1 = 1.0\n",
            "X2 = 2.0\n",
            "X3 = 3.0\n"
          ]
        }
      ]
    },
    {
      "cell_type": "markdown",
      "source": [
        "# LU Decomposition"
      ],
      "metadata": {
        "id": "j6C1cQxxfSh-"
      }
    },
    {
      "cell_type": "code",
      "source": [
        "def lu_decomposition(mat):\n",
        "  lower = [\n",
        "      [0, 0, 0],\n",
        "      [0, 0, 0],\n",
        "      [0, 0, 0]\n",
        "  ]\n",
        "\n",
        "  upper = [\n",
        "      [0, 0, 0],\n",
        "      [0, 0, 0],\n",
        "      [0, 0, 0]\n",
        "  ]\n",
        "\n",
        "  for i in range(3): \n",
        "      # Upper Triangular\n",
        "      for k in range(i, 3):\n",
        "          sum = 0\n",
        "          for j in range(i):\n",
        "              sum += (lower[i][j] * upper[j][k])\n",
        "          upper[i][k] = mat[i][k] - sum\n",
        "\n",
        "      # Lower Triangular\n",
        "      for k in range(i, 3):\n",
        "          if (i == k):\n",
        "              lower[i][i] = 1  # Diagonal as 1\n",
        "          else:\n",
        "              sum = 0\n",
        "              for j in range(i):\n",
        "                  sum += (lower[k][j] * upper[j][i])\n",
        "              lower[k][i] = int((mat[k][i] - sum) /\n",
        "                                upper[i][i])\n",
        "\n",
        "  for i in range(3):\n",
        "      # Lower\n",
        "      for j in range(3):\n",
        "          print(lower[i][j], end=\"\\t\")\n",
        "      print(\"\", end=\"\\t\")\n",
        "\n",
        "      # Upper\n",
        "      for j in range(3):\n",
        "          print(upper[i][j], end=\"\\t\")\n",
        "      print(\"\")"
      ],
      "metadata": {
        "id": "gPz-xXzajTq9"
      },
      "execution_count": 19,
      "outputs": []
    },
    {
      "cell_type": "code",
      "source": [
        "matriks2 = np.array([\n",
        "    [1, 1, 1],\n",
        "    [1, 2, -1],\n",
        "    [2, 1, 2]\n",
        "])\n",
        "lu_decomposition(matriks2)"
      ],
      "metadata": {
        "colab": {
          "base_uri": "https://localhost:8080/"
        },
        "id": "IEY4pjfQj_wG",
        "outputId": "27963b74-890f-4c74-b11a-975b8f06cab8"
      },
      "execution_count": 20,
      "outputs": [
        {
          "output_type": "stream",
          "name": "stdout",
          "text": [
            "1\t0\t0\t\t1\t1\t1\t\n",
            "1\t1\t0\t\t0\t1\t-2\t\n",
            "2\t-1\t1\t\t0\t0\t-2\t\n"
          ]
        }
      ]
    }
  ]
}