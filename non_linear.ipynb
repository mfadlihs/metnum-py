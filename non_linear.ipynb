{
  "cells": [
    {
      "cell_type": "markdown",
      "source": [
        "# Nomor 1"
      ],
      "metadata": {
        "id": "bVfjkTBgMmdO"
      }
    },
    {
      "cell_type": "markdown",
      "source": [
        "Hitung akar persamaan x^2e^(–x/2) = 1 dalam interval [0, 2] menggunakan metode garis potong. Akar harus benar hingga tiga tempat desimal."
      ],
      "metadata": {
        "id": "wIZAZ976MzuW"
      }
    },
    {
      "cell_type": "code",
      "source": [
        "import numpy as np\n",
        "import matplotlib.pyplot as plt\n",
        "import math"
      ],
      "metadata": {
        "id": "18ITlvOaNCPz"
      },
      "execution_count": 4,
      "outputs": []
    },
    {
      "cell_type": "code",
      "source": [
        "from math import e"
      ],
      "metadata": {
        "id": "X9UE-BbeNPX0"
      },
      "execution_count": 2,
      "outputs": []
    },
    {
      "cell_type": "code",
      "source": [
        "fx = lambda x:(x**2)*(e**(-x/2))"
      ],
      "metadata": {
        "id": "cJ35J44nNQdo"
      },
      "execution_count": 3,
      "outputs": []
    },
    {
      "cell_type": "code",
      "source": [
        "def plot(min, max, fx):\n",
        "  x = np.arange(min, max, 1)\n",
        "  plt.plot(x, fx, '-')\n",
        "  plt.grid(True)\n",
        "  plt.xlabel('X')\n",
        "  # plt.ylabel('')"
      ],
      "metadata": {
        "id": "GS5NkRCtNnjU"
      },
      "execution_count": 5,
      "outputs": []
    },
    {
      "cell_type": "code",
      "source": [],
      "metadata": {
        "id": "aoYLw7qnOFc1",
        "outputId": "4ed44cfd-53a1-4380-dd5f-972abdb7ad0a",
        "colab": {
          "base_uri": "https://localhost:8080/"
        }
      },
      "execution_count": 6,
      "outputs": [
        {
          "output_type": "stream",
          "name": "stdout",
          "text": [
            "<function <lambda> at 0x7fe2fe19a950>\n"
          ]
        }
      ]
    }
  ],
  "metadata": {
    "language_info": {
      "name": "python"
    },
    "orig_nbformat": 4,
    "colab": {
      "provenance": [],
      "toc_visible": true
    },
    "kernelspec": {
      "name": "python3",
      "display_name": "Python 3"
    }
  },
  "nbformat": 4,
  "nbformat_minor": 0
}