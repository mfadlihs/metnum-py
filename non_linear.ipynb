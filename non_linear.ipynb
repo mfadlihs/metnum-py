{
  "cells": [
    {
      "cell_type": "markdown",
      "source": [
        "# Nomor 1"
      ],
      "metadata": {
        "id": "bVfjkTBgMmdO"
      }
    },
    {
      "cell_type": "markdown",
      "source": [
        "Hitung akar persamaan x^2e^(–x/2) = 1 dalam interval [0, 2] menggunakan metode garis potong. Akar harus benar hingga tiga tempat desimal."
      ],
      "metadata": {
        "id": "wIZAZ976MzuW"
      }
    },
    {
      "cell_type": "code",
      "source": [
        "import numpy as np\n",
        "import matplotlib.pyplot as plt\n",
        "import math"
      ],
      "metadata": {
        "id": "18ITlvOaNCPz"
      },
      "execution_count": 1,
      "outputs": []
    },
    {
      "cell_type": "code",
      "source": [
        "from math import e"
      ],
      "metadata": {
        "id": "X9UE-BbeNPX0"
      },
      "execution_count": 2,
      "outputs": []
    },
    {
      "cell_type": "code",
      "source": [
        "fx = lambda x:(x**2)*(e**(-x/2)) "
      ],
      "metadata": {
        "id": "cJ35J44nNQdo"
      },
      "execution_count": 39,
      "outputs": []
    },
    {
      "cell_type": "code",
      "source": [
        "def plot(min, max, f):\n",
        "  x = np.arange(min, max, 0.5)\n",
        "  plt.plot(x, f(x), '-')\n",
        "  plt.grid(True)\n",
        "  plt.xlabel('X')\n",
        "  plt.ylabel('Fungsi f(x)')\n",
        "  plt.show()"
      ],
      "metadata": {
        "id": "GS5NkRCtNnjU"
      },
      "execution_count": 40,
      "outputs": []
    },
    {
      "cell_type": "code",
      "source": [
        "plot(1, 10, fx)"
      ],
      "metadata": {
        "id": "aoYLw7qnOFc1",
        "outputId": "49a80c3a-f191-4119-f495-8b73aea724ff",
        "colab": {
          "base_uri": "https://localhost:8080/",
          "height": 279
        }
      },
      "execution_count": 41,
      "outputs": [
        {
          "output_type": "display_data",
          "data": {
            "text/plain": [
              "<Figure size 432x288 with 1 Axes>"
            ],
            "image/png": "[encoded data removed]"
          },
          "metadata": {
            "needs_background": "light"
          }
        }
      ]
    }
  ],
  "metadata": {
    "language_info": {
      "name": "python"
    },
    "orig_nbformat": 4,
    "colab": {
      "provenance": [],
      "toc_visible": true
    },
    "kernelspec": {
      "name": "python3",
      "display_name": "Python 3"
    }
  },
  "nbformat": 4,
  "nbformat_minor": 0
}