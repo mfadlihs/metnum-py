{
  "cells": [
    {
      "cell_type": "code",
      "execution_count": null,
      "metadata": {
        "id": "FnTWA4by-JCa"
      },
      "outputs": [],
      "source": [
        "a - 19"
      ]
    },
    {
      "cell_type": "markdown",
      "metadata": {
        "id": "5MP9sAAT-JCc"
      },
      "source": [
        "p"
      ]
    }
  ],
  "metadata": {
    "language_info": {
      "name": "python"
    },
    "orig_nbformat": 4,
    "colab": {
      "provenance": []
    },
    "kernelspec": {
      "name": "python3",
      "display_name": "Python 3"
    }
  },
  "nbformat": 4,
  "nbformat_minor": 0
}