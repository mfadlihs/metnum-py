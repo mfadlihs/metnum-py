{
  "cells": [
    {
      "cell_type": "markdown",
      "source": [
        "# Nomor 1"
      ],
      "metadata": {
        "id": "bVfjkTBgMmdO"
      }
    },
    {
      "cell_type": "markdown",
      "source": [
        "Hitung akar persamaan x^2e^(–x/2) = 1 dalam interval [0, 2] menggunakan metode garis potong. Akar harus benar hingga tiga tempat desimal."
      ],
      "metadata": {
        "id": "wIZAZ976MzuW"
      }
    },
    {
      "cell_type": "code",
      "source": [
        "import numpy as np\n",
        "import matplotlib.pyplot as plt\n",
        "import math"
      ],
      "metadata": {
        "id": "18ITlvOaNCPz"
      },
      "execution_count": 5,
      "outputs": []
    },
    {
      "cell_type": "code",
      "source": [
        "from math import e"
      ],
      "metadata": {
        "id": "X9UE-BbeNPX0"
      },
      "execution_count": 6,
      "outputs": []
    },
    {
      "cell_type": "code",
      "source": [
        "fx = lambda x:(x**2)*(e**(-x/2)) - 1"
      ],
      "metadata": {
        "id": "cJ35J44nNQdo"
      },
      "execution_count": 7,
      "outputs": []
    },
    {
      "cell_type": "code",
      "source": [
        "def plot(min, max, f):\n",
        "  x = np.arange(min, max, 0.5)\n",
        "  plt.plot(x, f(x), '-')\n",
        "  plt.grid(True)\n",
        "  plt.xlabel('X')\n",
        "  plt.ylabel('Fungsi f(x)')\n",
        "  plt.show()"
      ],
      "metadata": {
        "id": "GS5NkRCtNnjU"
      },
      "execution_count": 8,
      "outputs": []
    },
    {
      "cell_type": "code",
      "source": [
        "def biseksi(fx):\n",
        "  a = float(input(\"Masukkan a: \"))\n",
        "  b = float(input(\"Masukkan b: \"))\n",
        "  while(fx(a) * fx(b) > 0): \n",
        "    print('Tebakan awal salah, mohon coba lagi')\n",
        "    a = float(input(\"Masukkan a: \"))\n",
        "    b = float(input(\"Masukkan b: \"))\n",
        "  \n",
        "  c = a\n",
        "  print(c)\n",
        "  print('i\\ta\\tb\\tfx(a)\\tfx(b)\\tc\\tfx(c)')\n",
        "  i = 0\n",
        "  print(fx(a) * fx(b))\n",
        "  while(abs(fx(a) * fx(b)) > 0.0000000000001): \n",
        "    c = (a + b)/2\n",
        "    i += 1\n",
        "    print(f'{i}\\t{a:.3f}\\t{b:.3f}\\t{fx(a):.3f}\\t{fx(b):.3f}\\t{c:.3f}\\t{fx(c):.3f}')\n",
        "    if(fx(a) * fx(c) > 0):\n",
        "      a = c\n",
        "    else:\n",
        "      b = c\n",
        "  print(f'Akar persamaan adalah {c:.3f}')"
      ],
      "metadata": {
        "id": "_TEx8iHwY_6e"
      },
      "execution_count": 24,
      "outputs": []
    },
    {
      "cell_type": "code",
      "source": [
        "def f_temp(x0, x1, f):\n",
        "  return (f(x1)*(x1 - x0))/(f(x1) - f(x0))\n",
        "\n",
        "def secant(x0, x1, f, err):\n",
        "  y = f_temp(x0, x1, f)\n",
        "  print('n\\tx0\\tx1\\tf(x0)\\tf(x1)\\te')\n",
        "  i = 1\n",
        "  while(abs(y) >= err):\n",
        "    print(f'{i:d}\\t{x0:.3f}\\t{x1:.3f}\\t{f(x0):.3f}\\t{f(x1):.3f}\\t{abs(y):.3f}')\n",
        "    x0 = x1\n",
        "    x1 = x0 - y\n",
        "    y = f_temp(x0, x1, f)\n",
        "    i += 1\n",
        "  print(f'akar persamaan {x1:.3f}')"
      ],
      "metadata": {
        "id": "byuHdQHYgBK9"
      },
      "execution_count": 11,
      "outputs": []
    },
    {
      "cell_type": "code",
      "source": [
        "secant(0, 2, fx, 0.00001)"
      ],
      "metadata": {
        "colab": {
          "base_uri": "https://localhost:8080/"
        },
        "id": "3zBnSm-lhxLi",
        "outputId": "3669fff4-3421-4544-de15-50c1cc451338"
      },
      "execution_count": 12,
      "outputs": [
        {
          "output_type": "stream",
          "name": "stdout",
          "text": [
            "n\tx0\tx1\tf(x0)\tf(x1)\te\n",
            "1\t0.000\t2.000\t-1.000\t0.472\t0.641\n",
            "2\t2.000\t1.359\t0.472\t-0.064\t0.076\n",
            "3\t1.359\t1.435\t-0.064\t0.005\t0.006\n",
            "4\t1.435\t1.430\t0.005\t0.000\t0.000\n",
            "akar persamaan 1.430\n"
          ]
        }
      ]
    },
    {
      "cell_type": "code",
      "source": [
        "biseksi(fx)"
      ],
      "metadata": {
        "id": "DDQsClaYaY1n",
        "outputId": "a3611964-6cdd-44fb-af0e-834a6410a20a",
        "colab": {
          "base_uri": "https://localhost:8080/"
        }
      },
      "execution_count": 25,
      "outputs": [
        {
          "output_type": "stream",
          "name": "stdout",
          "text": [
            "Masukkan a: 0\n",
            "Masukkan b: 2\n",
            "0.0\n",
            "i\ta\tb\tfx(a)\tfx(b)\tc\tfx(c)\n",
            "-0.47151776468576934\n",
            "1\t0.000\t2.000\t-1.000\t0.472\t1.000\t-0.393\n",
            "2\t1.000\t2.000\t-0.393\t0.472\t1.500\t0.063\n",
            "3\t1.000\t1.500\t-0.393\t0.063\t1.250\t-0.164\n",
            "4\t1.250\t1.500\t-0.164\t0.063\t1.375\t-0.049\n",
            "5\t1.375\t1.500\t-0.049\t0.063\t1.438\t0.007\n",
            "6\t1.375\t1.438\t-0.049\t0.007\t1.406\t-0.021\n",
            "7\t1.406\t1.438\t-0.021\t0.007\t1.422\t-0.007\n",
            "8\t1.422\t1.438\t-0.007\t0.007\t1.430\t0.000\n",
            "9\t1.422\t1.430\t-0.007\t0.000\t1.426\t-0.003\n",
            "10\t1.426\t1.430\t-0.003\t0.000\t1.428\t-0.002\n",
            "11\t1.428\t1.430\t-0.002\t0.000\t1.429\t-0.001\n",
            "12\t1.429\t1.430\t-0.001\t0.000\t1.429\t-0.000\n",
            "13\t1.429\t1.430\t-0.000\t0.000\t1.429\t-0.000\n",
            "14\t1.429\t1.430\t-0.000\t0.000\t1.430\t-0.000\n",
            "15\t1.430\t1.430\t-0.000\t0.000\t1.430\t0.000\n",
            "16\t1.430\t1.430\t-0.000\t0.000\t1.430\t-0.000\n",
            "17\t1.430\t1.430\t-0.000\t0.000\t1.430\t-0.000\n",
            "18\t1.430\t1.430\t-0.000\t0.000\t1.430\t0.000\n",
            "19\t1.430\t1.430\t-0.000\t0.000\t1.430\t0.000\n",
            "20\t1.430\t1.430\t-0.000\t0.000\t1.430\t0.000\n",
            "21\t1.430\t1.430\t-0.000\t0.000\t1.430\t0.000\n",
            "22\t1.430\t1.430\t-0.000\t0.000\t1.430\t-0.000\n",
            "Akar persamaan adalah 1.430\n"
          ]
        }
      ]
    },
    {
      "cell_type": "code",
      "source": [
        "plot(-10, 10, fx)"
      ],
      "metadata": {
        "id": "42VGgOiod7GD",
        "outputId": "d7ac6eb6-bad9-47c1-cd7e-43393165427b",
        "colab": {
          "base_uri": "https://localhost:8080/",
          "height": 279
        }
      },
      "execution_count": 26,
      "outputs": [
        {
          "output_type": "display_data",
          "data": {
            "text/plain": [
              "<Figure size 432x288 with 1 Axes>"
            ],
            "image/png": "[encoded data removed]"
          },
          "metadata": {
            "needs_background": "light"
          }
        }
      ]
    },
    {
      "cell_type": "markdown",
      "source": [
        "# Nomor 2"
      ],
      "metadata": {
        "id": "gBUr6i9r4-Hi"
      }
    },
    {
      "cell_type": "markdown",
      "source": [
        "Hitung akar real dari persamaan f(x) = x3 – 5x + 1 = 0 terletak pada interval (0, 1). Lakukan empat iterasi dari metode secan."
      ],
      "metadata": {
        "id": "I9Uje5975Eav"
      }
    },
    {
      "cell_type": "code",
      "source": [
        "gx = lambda x: x**3 - 5*x + 1"
      ],
      "metadata": {
        "id": "Y7z5OQfP5SP5"
      },
      "execution_count": 27,
      "outputs": []
    },
    {
      "cell_type": "code",
      "source": [
        "secant(0, 1, gx, 0.00001)"
      ],
      "metadata": {
        "id": "erMOOmwx5ZM4",
        "outputId": "7a3ac936-d086-4b2a-bf04-ee29b4658aa3",
        "colab": {
          "base_uri": "https://localhost:8080/"
        }
      },
      "execution_count": 28,
      "outputs": [
        {
          "output_type": "stream",
          "name": "stdout",
          "text": [
            "n\tx0\tx1\tf(x0)\tf(x1)\te\n",
            "1\t0.000\t1.000\t1.000\t-3.000\t0.750\n",
            "2\t1.000\t0.250\t-3.000\t-0.234\t0.064\n",
            "3\t0.250\t0.186\t-0.234\t0.074\t0.015\n",
            "4\t0.186\t0.202\t0.074\t-0.000\t0.000\n",
            "akar persamaan 0.202\n"
          ]
        }
      ]
    },
    {
      "cell_type": "code",
      "source": [
        "plot(-5, 5, gx)"
      ],
      "metadata": {
        "id": "iadcE2Nt6fa2",
        "outputId": "c034c31d-13aa-49ce-81d7-27858ec04c31",
        "colab": {
          "base_uri": "https://localhost:8080/",
          "height": 280
        }
      },
      "execution_count": 29,
      "outputs": [
        {
          "output_type": "display_data",
          "data": {
            "text/plain": [
              "<Figure size 432x288 with 1 Axes>"
            ],
            "image/png": "[encoded data removed]"
          },
          "metadata": {
            "needs_background": "light"
          }
        }
      ]
    }
  ],
  "metadata": {
    "language_info": {
      "name": "python"
    },
    "orig_nbformat": 4,
    "colab": {
      "provenance": []
    },
    "kernelspec": {
      "name": "python3",
      "display_name": "Python 3"
    }
  },
  "nbformat": 4,
  "nbformat_minor": 0
}