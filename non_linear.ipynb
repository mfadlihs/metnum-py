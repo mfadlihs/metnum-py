{
  "cells": [
    {
      "cell_type": "markdown",
      "source": [
        "# Nomor 1"
      ],
      "metadata": {
        "id": "bVfjkTBgMmdO"
      }
    },
    {
      "cell_type": "markdown",
      "source": [
        "Hitung akar persamaan x^2e^(–x/2) = 1 dalam interval [0, 2] menggunakan metode garis potong. Akar harus benar hingga tiga tempat desimal."
      ],
      "metadata": {
        "id": "wIZAZ976MzuW"
      }
    },
    {
      "cell_type": "code",
      "source": [
        "import numpy as np\n",
        "import matplotlib.pyplot as plt\n",
        "import math"
      ],
      "metadata": {
        "id": "18ITlvOaNCPz"
      },
      "execution_count": 1,
      "outputs": []
    },
    {
      "cell_type": "code",
      "source": [
        "from math import e"
      ],
      "metadata": {
        "id": "X9UE-BbeNPX0"
      },
      "execution_count": 2,
      "outputs": []
    },
    {
      "cell_type": "code",
      "source": [
        "fx = lambda x:(x**2)*(e**(-x/2)) - 1"
      ],
      "metadata": {
        "id": "cJ35J44nNQdo"
      },
      "execution_count": 58,
      "outputs": []
    },
    {
      "cell_type": "code",
      "source": [
        "def plot(min, max, f):\n",
        "  x = np.arange(min, max, 0.5)\n",
        "  plt.plot(x, f(x), '-')\n",
        "  plt.grid(True)\n",
        "  plt.xlabel('X')\n",
        "  plt.ylabel('Fungsi f(x)')\n",
        "  plt.show()"
      ],
      "metadata": {
        "id": "GS5NkRCtNnjU"
      },
      "execution_count": 40,
      "outputs": []
    },
    {
      "cell_type": "code",
      "source": [
        "plot(1, 10, fx)"
      ],
      "metadata": {
        "id": "aoYLw7qnOFc1",
        "outputId": "dcd92b76-73f1-4779-8778-cfbb84f47907",
        "colab": {
          "base_uri": "https://localhost:8080/",
          "height": 279
        }
      },
      "execution_count": 43,
      "outputs": [
        {
          "output_type": "display_data",
          "data": {
            "text/plain": [
              "<Figure size 432x288 with 1 Axes>"
            ],
            "image/png": "[encoded data removed]"
          },
          "metadata": {
            "needs_background": "light"
          }
        }
      ]
    },
    {
      "cell_type": "code",
      "source": [
        "def f_temp(x0, x1, f):\n",
        "  return (f(x1)*(x1 - x0))/(f(x1) - f(x0))\n",
        "\n",
        "def secant(x0, x1, f, err):\n",
        "  y = f_temp(x0, x1, f)\n",
        "  print('n\\tx0\\tx1\\tf(x0)\\tf(x1)\\te')\n",
        "  i = 1\n",
        "  while(abs(y) >= err):\n",
        "    print(f'{i:d}\\t{x0:.3f}\\t{x1:.3f}\\t{f(x0):.3f}\\t{f(x1):.3f}\\t{abs(y):.3f}')\n",
        "    x0 = x1\n",
        "    x1 = x0 - y\n",
        "    y = f_temp(x0, x1, f)\n",
        "    i += 1\n",
        "  print(f'akar persamaan {x1:.3f}')"
      ],
      "metadata": {
        "id": "byuHdQHYgBK9"
      },
      "execution_count": 76,
      "outputs": []
    },
    {
      "cell_type": "code",
      "source": [
        "secant(0, 2, fx, 0.00001)"
      ],
      "metadata": {
        "colab": {
          "base_uri": "https://localhost:8080/"
        },
        "id": "3zBnSm-lhxLi",
        "outputId": "b82f4ef0-d716-4067-bfdf-27ff72e4ceb3"
      },
      "execution_count": 77,
      "outputs": [
        {
          "output_type": "stream",
          "name": "stdout",
          "text": [
            "n\tx0\tx1\tf(x0)\tf(x1)\te\n",
            "1\t0.000\t2.000\t-1.000\t0.472\t0.641\n",
            "2\t2.000\t1.359\t0.472\t-0.064\t0.076\n",
            "3\t1.359\t1.435\t-0.064\t0.005\t0.006\n",
            "4\t1.435\t1.430\t0.005\t0.000\t0.000\n",
            "akar persamaan 1.430\n"
          ]
        }
      ]
    },
    {
      "cell_type": "markdown",
      "source": [
        "# Nomor 2"
      ],
      "metadata": {
        "id": "gBUr6i9r4-Hi"
      }
    },
    {
      "cell_type": "markdown",
      "source": [
        "Hitung akar real dari persamaan f(x) = x3 – 5x + 1 = 0 terletak pada interval (0, 1). Lakukan empat iterasi dari metode secan."
      ],
      "metadata": {
        "id": "I9Uje5975Eav"
      }
    },
    {
      "cell_type": "code",
      "source": [
        "gx = lambda x: x**3 - 5*x + 1"
      ],
      "metadata": {
        "id": "Y7z5OQfP5SP5"
      },
      "execution_count": 67,
      "outputs": []
    },
    {
      "cell_type": "code",
      "source": [
        "secant(0, 1, gx, 0.00001)"
      ],
      "metadata": {
        "id": "erMOOmwx5ZM4",
        "outputId": "5902cc8a-9915-49a9-bb6e-c2657f2f04d2",
        "colab": {
          "base_uri": "https://localhost:8080/"
        }
      },
      "execution_count": 78,
      "outputs": [
        {
          "output_type": "stream",
          "name": "stdout",
          "text": [
            "n\tx0\tx1\tf(x0)\tf(x1)\te\n",
            "1\t0.000\t1.000\t1.000\t-3.000\t0.750\n",
            "2\t1.000\t0.250\t-3.000\t-0.234\t0.064\n",
            "3\t0.250\t0.186\t-0.234\t0.074\t0.015\n",
            "4\t0.186\t0.202\t0.074\t-0.000\t0.000\n",
            "akar persamaan 0.202\n"
          ]
        }
      ]
    },
    {
      "cell_type": "code",
      "source": [
        "plot(-5, 5, gx)"
      ],
      "metadata": {
        "id": "iadcE2Nt6fa2",
        "outputId": "112e1d2a-123c-4727-df2c-091000e927b1",
        "colab": {
          "base_uri": "https://localhost:8080/",
          "height": 280
        }
      },
      "execution_count": 79,
      "outputs": [
        {
          "output_type": "display_data",
          "data": {
            "text/plain": [
              "<Figure size 432x288 with 1 Axes>"
            ],
            "image/png": "[encoded data removed]"
          },
          "metadata": {
            "needs_background": "light"
          }
        }
      ]
    }
  ],
  "metadata": {
    "language_info": {
      "name": "python"
    },
    "orig_nbformat": 4,
    "colab": {
      "provenance": [],
      "toc_visible": true
    },
    "kernelspec": {
      "name": "python3",
      "display_name": "Python 3"
    }
  },
  "nbformat": 4,
  "nbformat_minor": 0
}