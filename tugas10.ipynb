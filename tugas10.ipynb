{
  "nbformat": 4,
  "nbformat_minor": 0,
  "metadata": {
    "colab": {
      "provenance": [],
      "authorship_tag": "ABX9TyOYusaK8QC2F380Id9KiQhy",
      "include_colab_link": true
    },
    "kernelspec": {
      "name": "python3",
      "display_name": "Python 3"
    },
    "language_info": {
      "name": "python"
    }
  },
  "cells": [
    {
      "cell_type": "markdown",
      "metadata": {
        "id": "view-in-github",
        "colab_type": "text"
      },
      "source": [
        "<a href=\"https://colab.research.google.com/github/mfadlihs/metnum-py/blob/main/tugas10.ipynb\" target=\"_parent\"><img src=\"https://colab.research.google.com/assets/colab-badge.svg\" alt=\"Open In Colab\"/></a>"
      ]
    },
    {
      "cell_type": "markdown",
      "source": [
        "# TUGAS 10 METNUM"
      ],
      "metadata": {
        "id": "uMuyzVV2GmWP"
      }
    },
    {
      "cell_type": "markdown",
      "source": [
        "## Muhammad Fadli Hasan\n",
        "## 215150200111063"
      ],
      "metadata": {
        "id": "FZWqCSi2GgKY"
      }
    },
    {
      "cell_type": "code",
      "source": [
        "import numpy as np\n",
        "from sympy import *\n",
        "\n",
        "x = Symbol('x')"
      ],
      "metadata": {
        "id": "b-re2zWDG5bI"
      },
      "execution_count": 7,
      "outputs": []
    },
    {
      "cell_type": "markdown",
      "source": [
        "### Beda Maju"
      ],
      "metadata": {
        "id": "Y_yGs8DUG-8R"
      }
    },
    {
      "cell_type": "code",
      "source": [
        "def forward(exp, x0, h):\n",
        "  f = (exp.subs(x, x0 + h) - exp.subs(x, x0)) / h\n",
        "  return f\n"
      ],
      "metadata": {
        "id": "iznvj9HnHCJG"
      },
      "execution_count": 3,
      "outputs": []
    },
    {
      "cell_type": "markdown",
      "source": [
        "### Beda Mundur"
      ],
      "metadata": {
        "id": "liLBE5OsHGbs"
      }
    },
    {
      "cell_type": "code",
      "source": [
        "def backward(exp, x0, h):\n",
        "  f = (exp.subs(x, x0) - exp.subs(x, x0 - h)) / h\n",
        "  return f"
      ],
      "metadata": {
        "id": "MtNgXFFzHH4S"
      },
      "execution_count": 4,
      "outputs": []
    },
    {
      "cell_type": "markdown",
      "source": [
        "### Beda Tengah"
      ],
      "metadata": {
        "id": "7ppPcWoRHNSC"
      }
    },
    {
      "cell_type": "code",
      "source": [
        "def central (exp, x0, h):\n",
        "  f = (exp.subs(x, x0 + h) - exp.subs(x, x0 - h)) / (2 * h)\n",
        "  return f"
      ],
      "metadata": {
        "id": "uF6WWV9rHO4_"
      },
      "execution_count": 5,
      "outputs": []
    },
    {
      "cell_type": "markdown",
      "source": [
        "### Turunan Kedua"
      ],
      "metadata": {
        "id": "Enpnvw8eHfGm"
      }
    },
    {
      "cell_type": "code",
      "source": [
        "def secondDerive (exp, x0, h):\n",
        "  f = (exp.subs(x, x0 - h) - (2 * exp.subs(x, x0)) + exp.subs(x, x0 + h)) / h**2\n",
        "  return f"
      ],
      "metadata": {
        "id": "8XkeB6EiHhuX"
      },
      "execution_count": 6,
      "outputs": []
    },
    {
      "cell_type": "markdown",
      "source": [
        "### PRINT"
      ],
      "metadata": {
        "id": "_NtJ80v7HnA8"
      }
    },
    {
      "cell_type": "code",
      "source": [
        "exp = 0.1 * x**4 + 0.2 * x**3 + 0.4 * x**2 + 0.5 * x + 1"
      ],
      "metadata": {
        "id": "e93F1jW6HocN"
      },
      "execution_count": 8,
      "outputs": []
    },
    {
      "cell_type": "code",
      "source": [
        "print('Beda Maju:')\n",
        "for k in range (0, 4):\n",
        "  print(forward(exp, 0, 10**-k))"
      ],
      "metadata": {
        "colab": {
          "base_uri": "https://localhost:8080/"
        },
        "id": "P0NHxJdNKdUo",
        "outputId": "223a4be1-258c-44e9-8e8c-b75b5d180cac"
      },
      "execution_count": 11,
      "outputs": [
        {
          "output_type": "stream",
          "name": "stdout",
          "text": [
            "Beda Maju:\n",
            "1.20000000000000\n",
            "0.542100000000001\n",
            "0.504020099999991\n",
            "0.500400200099893\n"
          ]
        }
      ]
    },
    {
      "cell_type": "code",
      "source": [
        "print('\\nBeda Mundur:')\n",
        "for k in range (0, 4):\n",
        "  print(backward(exp, 0, 10**-k))"
      ],
      "metadata": {
        "colab": {
          "base_uri": "https://localhost:8080/"
        },
        "id": "27AAU_LiKyaR",
        "outputId": "0d8a1866-4be9-45ce-9d18-21c4433524b1"
      },
      "execution_count": 12,
      "outputs": [
        {
          "output_type": "stream",
          "name": "stdout",
          "text": [
            "\n",
            "Beda Mundur:\n",
            "0.200000000000000\n",
            "0.461900000000001\n",
            "0.496019900000000\n",
            "0.499600199899919\n"
          ]
        }
      ]
    },
    {
      "cell_type": "code",
      "source": [
        "print('\\nBeda Tengah:')\n",
        "for k in range (0, 4):\n",
        "  print(central(exp, 0, 10**-k))"
      ],
      "metadata": {
        "colab": {
          "base_uri": "https://localhost:8080/"
        },
        "id": "KkzFYmsEK0Oh",
        "outputId": "707d867a-21a8-4c63-8aa0-3bcce36cd271"
      },
      "execution_count": 13,
      "outputs": [
        {
          "output_type": "stream",
          "name": "stdout",
          "text": [
            "\n",
            "Beda Tengah:\n",
            "0.700000000000000\n",
            "0.502000000000001\n",
            "0.500019999999995\n",
            "0.500000199999906\n"
          ]
        }
      ]
    },
    {
      "cell_type": "code",
      "source": [
        "print('\\nTurunan Kedua:')\n",
        "for k in range (0, 4):\n",
        "  print(secondDerive(exp, 0, 10**-k))"
      ],
      "metadata": {
        "id": "QdjUItrgLmA-",
        "outputId": "2c7dca11-fb5b-4841-c603-1354bf474a06",
        "colab": {
          "base_uri": "https://localhost:8080/"
        }
      },
      "execution_count": 15,
      "outputs": [
        {
          "output_type": "stream",
          "name": "stdout",
          "text": [
            "\n",
            "Turunan Kedua:\n",
            "1.00000000000000\n",
            "0.801999999999991\n",
            "0.800019999998014\n",
            "0.800000199863149\n"
          ]
        }
      ]
    }
  ]
}